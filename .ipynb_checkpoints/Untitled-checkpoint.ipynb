{
 "cells": [
  {
   "cell_type": "code",
   "execution_count": null,
   "id": "13289bae-92a2-43c7-8f84-4f6878a2eb48",
   "metadata": {},
   "outputs": [],
   "source": [
    "!python SupCon_TSC_with_validation_ensam_whole.py --lr1 0.0001 --lr2 0.0001 --batch_size_emb 15 --batch_size_cl 15 --Epoch 100 --name_dataset AtrialFibrillation\n",
    "\n"
   ]
  }
 ],
 "metadata": {
  "kernelspec": {
   "display_name": "PyTorch 1.8.1",
   "language": "python",
   "name": "pytorch-1.8.1"
  },
  "language_info": {
   "codemirror_mode": {
    "name": "ipython",
    "version": 3
   },
   "file_extension": ".py",
   "mimetype": "text/x-python",
   "name": "python",
   "nbconvert_exporter": "python",
   "pygments_lexer": "ipython3",
   "version": "3.8.8"
  }
 },
 "nbformat": 4,
 "nbformat_minor": 5
}
