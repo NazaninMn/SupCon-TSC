{
 "cells": [
  {
   "cell_type": "code",
   "execution_count": null,
   "id": "13289bae-92a2-43c7-8f84-4f6878a2eb48",
   "metadata": {
    "tags": []
   },
   "outputs": [
    {
     "name": "stdout",
     "output_type": "stream",
     "text": [
      "{'lr1': 0.0001, 'lr2': 0.0001, 'batch_size_emb': 3, 'batch_size_cl': 3, 'Epoch': 100, 'name_dataset': 'AtrialFibrillation'}\n",
      "Accuracy on test is equal to:  0.06666666666666667\n",
      "Accuracy on validation is equal to:  0.3333333333333333\n"
     ]
    }
   ],
   "source": [
    "!python main_with_validation2.py --lr1 0.0001 --lr2 0.0001 --batch_size_emb 3 --batch_size_cl 3 --Epoch 100 --name_dataset AtrialFibrillation\n",
    "\n"
   ]
  },
  {
   "cell_type": "code",
   "execution_count": null,
   "id": "6ba4c51b-dc5d-42ef-836b-e4cd32aeb4db",
   "metadata": {},
   "outputs": [],
   "source": []
  }
 ],
 "metadata": {
  "kernelspec": {
   "display_name": "PyTorch 1.8.1",
   "language": "python",
   "name": "pytorch-1.8.1"
  },
  "language_info": {
   "codemirror_mode": {
    "name": "ipython",
    "version": 3
   },
   "file_extension": ".py",
   "mimetype": "text/x-python",
   "name": "python",
   "nbconvert_exporter": "python",
   "pygments_lexer": "ipython3",
   "version": "3.8.8"
  }
 },
 "nbformat": 4,
 "nbformat_minor": 5
}
